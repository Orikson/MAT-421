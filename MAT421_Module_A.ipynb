{
  "nbformat": 4,
  "nbformat_minor": 0,
  "metadata": {
    "colab": {
      "provenance": [],
      "authorship_tag": "ABX9TyO0BL483+gDVQ3I+PJpkzWS",
      "include_colab_link": true
    },
    "kernelspec": {
      "name": "python3",
      "display_name": "Python 3"
    },
    "language_info": {
      "name": "python"
    }
  },
  "cells": [
    {
      "cell_type": "markdown",
      "metadata": {
        "id": "view-in-github",
        "colab_type": "text"
      },
      "source": [
        "<a href=\"https://colab.research.google.com/github/Orikson/MAT-421/blob/main/MAT421_Module_A.ipynb\" target=\"_parent\"><img src=\"https://colab.research.google.com/assets/colab-badge.svg\" alt=\"Open In Colab\"/></a>"
      ]
    },
    {
      "cell_type": "markdown",
      "source": [
        "# Base-N and Binary Numbers"
      ],
      "metadata": {
        "id": "9ud_WOmsj5On"
      }
    },
    {
      "cell_type": "markdown",
      "source": [
        "## Base-N\n",
        "Python, as part of the standard library, has excellent support for conversions amongst the most commonly used bases in computer science, namely, base 2 (binary), base 8 (octal), and base 16 (hexadecimal)."
      ],
      "metadata": {
        "id": "B5-v3i4TmeDY"
      }
    },
    {
      "cell_type": "code",
      "source": [
        "n = 24 # @param {type:\"integer\"}\n",
        "\n",
        "print('{0:d} in binary: {0:b}'.format(n, n))\n",
        "print('{0:d} in octal: {0:o}'.format(n, n))\n",
        "print('{0:d} in hexadecimal: {0:x}'.format(n,n))"
      ],
      "metadata": {
        "colab": {
          "base_uri": "https://localhost:8080/"
        },
        "id": "xqOQfjVCkALp",
        "outputId": "c45f5240-a33f-4a33-a69a-e0f689b1965e"
      },
      "execution_count": 7,
      "outputs": [
        {
          "output_type": "stream",
          "name": "stdout",
          "text": [
            "24 in binary: 11000\n",
            "24 in octal: 30\n",
            "24 in hexadecimal: 18\n"
          ]
        }
      ]
    },
    {
      "cell_type": "markdown",
      "source": [
        "Adding or multiplying numbers in binary is similar to adding or multiplying in base 10, but modulo 2 instead of modulo 10 on each digit. As expected, the end result has the same value whether you operate in base 10 or base 2"
      ],
      "metadata": {
        "id": "LWER-au6M0Rb"
      }
    },
    {
      "cell_type": "code",
      "source": [
        "a = 20 # @param {type:\"integer\"}\n",
        "b = 30 # @param {type:\"integer\"}\n",
        "a_bin = bin(a)[2:]\n",
        "b_bin = bin(b)[2:]\n",
        "\n",
        "a_plus_b = int(a_bin,2) + int(b_bin,2)\n",
        "a_times_b = int(a_bin,2) * int(b_bin,2)\n",
        "\n",
        "print(f'a + b = {a + b}')\n",
        "print(f'a * b = {a * b}')\n",
        "print(f'a base 2 + b base 2 = {bin(a_plus_b)[2:]} base 2 = {a_plus_b} base 10')\n",
        "print(f'a base 2 * b base 2 = {bin(a_times_b)[2:]} base 2 = {a_times_b} base 10')"
      ],
      "metadata": {
        "colab": {
          "base_uri": "https://localhost:8080/"
        },
        "id": "-vZS4EgAMzrQ",
        "outputId": "7d91a2ba-1acd-44d8-83e7-8545e756fd7f"
      },
      "execution_count": 7,
      "outputs": [
        {
          "output_type": "stream",
          "name": "stdout",
          "text": [
            "a + b = 50\n",
            "a * b = 600\n",
            "a base 2 + b base 2 = 110010 base 2 = 50 base 10\n",
            "a base 2 * b base 2 = 1001011000 base 2 = 600 base 10\n"
          ]
        }
      ]
    },
    {
      "cell_type": "markdown",
      "source": [
        "What about converting an integer to an arbitrary base?\n",
        "\n",
        "Consider the sum\n",
        "$$n = \\sum_0^i c_i \\cdot b^i$$\n",
        "Here, $c$ is a string of digits, and $i$ indicates the position along the string from right to left. $b$ is the base with respect to the string of digits.\n",
        "\n",
        "This sum describes any number with respect to its digits. Notably, the least significant digit, where $i=0$, contributes the term $c_0 \\cdot b^0 = c_0$. Taking this term out, and factoring out the base once, the sum becomes\n",
        "$$n = b \\left(\\sum_1^i c_i \\cdot b^{i-1} \\right) + c_0$$ When dividing $n$ by $b$, we find that the remainder is simply $c_0$, the least significant digit. As such, to find the least significant digit, we simply have to compute $c_0 = n \\pmod b$\n",
        "\n",
        "We can repeat this process to find the remaining digits $c_i$ by subtracting the last digit we found from $n$, and dividing by a factor of $b$. For example, to find $c_1$, we note that\n",
        "$$\\frac{n - c_0}{b} = b \\left( \\sum_2^i c_i \\cdot b^{i-2} \\right) + c_1$$\n",
        "and can compute $c_1 = \\frac{n - c_0}{b} \\pmod b$."
      ],
      "metadata": {
        "id": "Je77x70gOjWb"
      }
    },
    {
      "cell_type": "code",
      "source": [
        "def to_base(n, b):\n",
        "  if n == 0:\n",
        "    return []\n",
        "  c0 = n % b\n",
        "  return to_base(n // b, b) + [c0]\n",
        "\n",
        "n = 15326 # @param {type:\"integer\"}\n",
        "b = 12 # @param {type:\"integer\"}\n",
        "\n",
        "digits = to_base(n, b)\n",
        "\n",
        "print(f'{n} in base {b} has digits {digits}')\n",
        "\n",
        "s = 0\n",
        "t = ''\n",
        "for i, d in enumerate(digits[::-1]):\n",
        "  s += d * pow(b, i)\n",
        "  t += f' + {d} * {b}^{i}'\n",
        "t = t[3:]\n",
        "\n",
        "print(f'{t} = {s}')"
      ],
      "metadata": {
        "colab": {
          "base_uri": "https://localhost:8080/"
        },
        "id": "eRW06t8tY4ON",
        "outputId": "10574713-f39b-4813-a776-4c3ba0e636a1"
      },
      "execution_count": 25,
      "outputs": [
        {
          "output_type": "stream",
          "name": "stdout",
          "text": [
            "15326 in base 12 has digits [8, 10, 5, 2]\n",
            "2 * 12^0 + 5 * 12^1 + 10 * 12^2 + 8 * 12^3 = 15326\n"
          ]
        }
      ]
    },
    {
      "cell_type": "markdown",
      "source": [
        "# Floating Point Numbers"
      ],
      "metadata": {
        "id": "DlAURgQ5j9Rn"
      }
    },
    {
      "cell_type": "code",
      "source": [
        "import sys\n",
        "sys.float_info"
      ],
      "metadata": {
        "colab": {
          "base_uri": "https://localhost:8080/"
        },
        "id": "6b13FjP-kAuD",
        "outputId": "7f6018c1-06a8-4fc8-d044-133acd9b0185"
      },
      "execution_count": 1,
      "outputs": [
        {
          "output_type": "execute_result",
          "data": {
            "text/plain": [
              "sys.float_info(max=1.7976931348623157e+308, max_exp=1024, max_10_exp=308, min=2.2250738585072014e-308, min_exp=-1021, min_10_exp=-307, dig=15, mant_dig=53, epsilon=2.220446049250313e-16, radix=2, rounds=1)"
            ]
          },
          "metadata": {},
          "execution_count": 1
        }
      ]
    },
    {
      "cell_type": "markdown",
      "source": [
        "Given the above sys information, we find that python floats follow the IEEE754 double precision standard. This means that all floating point numbers are represented by 64 bits: 1 sign bit, 11 exponent bits (with a bias of 1023), and 52 fraction bits. All values then are represented as\n",
        "$$n = (-1)^s 2^{e-1023} (1 + f)$$\n",
        "\n",
        "For example, let's take the bit string `1 10000000010 1000000000000000000000000000000000000000000000000000` (example from the text).\n",
        "\n",
        "First, how do we calculate the fractional part? We know we have a 52 bit fractional component, whose value is represented as\n",
        "$$\\sum_{i=1}^{52} c_i \\frac{1}{2^i}$$\n",
        "where $i$ is the 1-index in the bit string from left to right. This is equivalent to\n",
        "$$\\frac{1}{2^{52}} \\sum_{i=1}^{52} c_i 2^{52-i}$$\n",
        "which, notably, is just the bit string as an integer divided by $2^{52}$. Although the `int` type in python is typically 32 bits (signed or unsigned), for values with more bits than 32 default to use the `long` type, which uses 64 bits, and can store our 52 bit integer easily.\n",
        "\n",
        "Here, we compute the value of the floating point from the given bit string. Note that accuracy is reduced at high precisions because python inherently uses floats for calculations."
      ],
      "metadata": {
        "id": "NcQ26k0egKEK"
      }
    },
    {
      "cell_type": "code",
      "source": [
        "def b_to_fraction(b):\n",
        "  f = int(b,2)\n",
        "  return f / pow(2,52)\n",
        "\n",
        "def b_to_float(b):\n",
        "  s = int(b[0],2)\n",
        "  e = int(b[1:12],2)\n",
        "  f = b_to_fraction(b[12:])\n",
        "  return pow(-1, s) * pow(2, e-1023) * (1 + f)\n",
        "\n",
        "b = '1100000000101000000000000000000000000000000000000000000000000000'\n",
        "print(f'The bit string \"{b}\" represents the float {b_to_float(b)}')\n",
        "print(f'Expected value, -12.0')"
      ],
      "metadata": {
        "colab": {
          "base_uri": "https://localhost:8080/"
        },
        "id": "u1pXcD3wgJHA",
        "outputId": "cc3e18a0-3396-4534-9656-3a9631f69b75"
      },
      "execution_count": 10,
      "outputs": [
        {
          "output_type": "stream",
          "name": "stdout",
          "text": [
            "The bit string \"1100000000101000000000000000000000000000000000000000000000000000\" represents the float -12.0\n",
            "Expected value, -12.0\n"
          ]
        }
      ]
    },
    {
      "cell_type": "markdown",
      "source": [
        "How large is the difference between a given float and the next largest/smallest representable value?\n",
        "\n",
        "To get the bits of a float, I am using the `struct` python package."
      ],
      "metadata": {
        "id": "F7SGv5TJmqbM"
      }
    },
    {
      "cell_type": "code",
      "source": [
        "import struct\n",
        "import numpy as np\n",
        "\n",
        "n = 15.0 # @param {type:\"number\"}\n",
        "b = bin(struct.unpack('>q', struct.pack('>d', n))[0])[2:]\n",
        "t = '0' * (64 - len(b)) + b\n",
        "\n",
        "def b_to_float(b):\n",
        "  return struct.unpack('>d', int(b,2).to_bytes(8, 'big'))[0]\n",
        "\n",
        "def b_largest_smallest(b):\n",
        "  s = b[0]\n",
        "  e = b[1:12]\n",
        "  f = int(b[12:],2)\n",
        "\n",
        "  f_s = bin(f - 1)[2:]\n",
        "  f_l = bin(f + 1)[2:]\n",
        "\n",
        "  r_s = b_to_float(s + e + f_s)\n",
        "  r_l = b_to_float(s + e + f_l)\n",
        "  return r_l, r_s\n",
        "\n",
        "r_l, r_s = b_largest_smallest(t)\n",
        "print('Next largest: {:.28f}'.format(r_l))\n",
        "print('Next smallest: {:.28f}'.format(r_s))\n",
        "\n",
        "print('Next largest according to numpy: {:.28f}'.format(n + np.spacing(n)))\n",
        "print('Next smallest according to numpy: {:.28f}'.format(n - np.spacing(n)))"
      ],
      "metadata": {
        "colab": {
          "base_uri": "https://localhost:8080/"
        },
        "id": "Ynwx-slRopeF",
        "outputId": "b7e2a172-1216-4221-df98-1979805e4ca6"
      },
      "execution_count": 52,
      "outputs": [
        {
          "output_type": "stream",
          "name": "stdout",
          "text": [
            "Next largest: 15.0000000000000017763568394003\n",
            "Next smallest: 14.9999999999999982236431605997\n",
            "Next largest according to numpy: 15.0000000000000017763568394003\n",
            "Next smallest according to numpy: 14.9999999999999982236431605997\n"
          ]
        }
      ]
    },
    {
      "cell_type": "markdown",
      "source": [
        "How about overflow? What happens if we try to exceed the maximum floating point numbers? Because we run out of bits, we are unable to represent floating point numbers outside the range of maximum, and are clipped to that range."
      ],
      "metadata": {
        "id": "NJzaMrZb42R7"
      }
    },
    {
      "cell_type": "code",
      "source": [
        "largest = (2**(2046-1023))*((1 + sum(0.5**np.arange(1, 53))))\n",
        "smallest = (2**(1-1023))*(1+0)\n",
        "print(f'largest is sys.float_info.max? {largest == sys.float_info.max}')\n",
        "print(f'largest + 1 is sys.float_info.max? {largest + 1 == sys.float_info.max}')\n",
        "print(f'smallest is sys.float_info.min? {smallest == sys.float_info.min}')"
      ],
      "metadata": {
        "colab": {
          "base_uri": "https://localhost:8080/"
        },
        "id": "p5Zizpge42Fb",
        "outputId": "a7ebbfb9-aa0b-4554-92a4-b33c85918f8c"
      },
      "execution_count": 74,
      "outputs": [
        {
          "output_type": "stream",
          "name": "stdout",
          "text": [
            "largest is sys.float_info.max? True\n",
            "largest + 1 is sys.float_info.max? True\n",
            "smallest is sys.float_info.min? True\n"
          ]
        }
      ]
    },
    {
      "cell_type": "markdown",
      "source": [
        "# Round-off Errors"
      ],
      "metadata": {
        "id": "MYAsqE4Yj-9g"
      }
    },
    {
      "cell_type": "markdown",
      "source": [
        "Because of imprecision and gaps between floating point numbers, it is difficult to do absolute equivalences between floating points. Numbers may be rounded differently depending on the order of operations.\n",
        "\n",
        "Take, for example, $0.1 + 0.2 + 0.3 = 0.6$, which is not true in pure python"
      ],
      "metadata": {
        "id": "FB0h9VUeABDH"
      }
    },
    {
      "cell_type": "code",
      "execution_count": 76,
      "metadata": {
        "colab": {
          "base_uri": "https://localhost:8080/"
        },
        "id": "Kj8HXbLQjzIa",
        "outputId": "550a94f0-02f2-4e16-9139-4b31e3531071"
      },
      "outputs": [
        {
          "output_type": "stream",
          "name": "stdout",
          "text": [
            "0.1 + 0.2 + 0.3 = 0.6? False\n",
            "0.1 + 0.2 + 0.3 = 0.6000000000000001\n"
          ]
        }
      ],
      "source": [
        "print(f'0.1 + 0.2 + 0.3 = 0.6? {0.1 + 0.2 + 0.3 == 0.6}')\n",
        "print(f'0.1 + 0.2 + 0.3 = {0.1 + 0.2 + 0.3}')"
      ]
    },
    {
      "cell_type": "markdown",
      "source": [
        "Over time, and after many operations, this round-off error can accumulate and become much more substantial."
      ],
      "metadata": {
        "id": "P6lzZ4wyBFih"
      }
    },
    {
      "cell_type": "code",
      "source": [
        "x = 15.0 # @param {type:\"number\"}\n",
        "n = 1000 # @param {type:\"integer\"}\n",
        "\n",
        "def sum_convolution(x, n):\n",
        "  for _ in range(n):\n",
        "    x += 1 / 17\n",
        "\n",
        "  for _ in range(n):\n",
        "    x -= 1 / 17\n",
        "\n",
        "  return x\n",
        "\n",
        "print('{x} after {n} sum iterations becomes {:.28f}'.format(sum_convolution(x, n // 10), x=x, n=n // 10))\n",
        "print('{x} after {n} sum iterations becomes {:.28f}'.format(sum_convolution(x, n), x=x, n=n))\n",
        "print('{x} after {n} sum iterations becomes {:.28f}'.format(sum_convolution(x, n * 10), x=x, n=n * 10))\n",
        "\n",
        "def mult_convolution(x, n):\n",
        "  for _ in range(n):\n",
        "    x *= 1.1\n",
        "\n",
        "  for _ in range(n):\n",
        "    x /= 1.1\n",
        "\n",
        "  return x\n",
        "\n",
        "print('{x} after {n} mult iterations becomes {:.28f}'.format(mult_convolution(x, n // 10), x=x, n=n // 10))\n",
        "print('{x} after {n} mult iterations becomes {:.28f}'.format(mult_convolution(x, n), x=x, n=n))"
      ],
      "metadata": {
        "colab": {
          "base_uri": "https://localhost:8080/"
        },
        "id": "ptSy66oNBLPF",
        "outputId": "5628b28a-7b82-428e-b1c9-fcb96bb1add8"
      },
      "execution_count": 99,
      "outputs": [
        {
          "output_type": "stream",
          "name": "stdout",
          "text": [
            "15.0 after 100 sum iterations becomes 15.0000000000000000000000000000\n",
            "15.0 after 1000 sum iterations becomes 14.9999999999999928945726423990\n",
            "15.0 after 10000 sum iterations becomes 14.9999999999999502620084967930\n",
            "15.0 after 100 mult iterations becomes 14.9999999999999982236431605997\n",
            "15.0 after 1000 mult iterations becomes 14.9999999999999893418589635985\n"
          ]
        }
      ]
    }
  ]
}